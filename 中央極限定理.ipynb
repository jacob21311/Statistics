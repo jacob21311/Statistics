{
 "cells": [
  {
   "cell_type": "code",
   "execution_count": 2,
   "id": "d76a8616",
   "metadata": {},
   "outputs": [],
   "source": [
    "import pyro\n",
    "import pyro.distributions as dist\n",
    "import numpy as np\n",
    "import scipy.stats as stats\n",
    "import pandas as pd\n",
    "import matplotlib.pylab as plt\n",
    "import seaborn as sns\n",
    "import warnings\n",
    "warnings.filterwarnings('ignore')"
   ]
  },
  {
   "cell_type": "code",
   "execution_count": 3,
   "id": "9135fe8d",
   "metadata": {},
   "outputs": [
    {
     "name": "stdout",
     "output_type": "stream",
     "text": [
      "母體平均數:0.1000, 母體標準差:0.0905\n"
     ]
    }
   ],
   "source": [
    "# 給定一個母體\n",
    "param = (1, 9) \n",
    "distribution = dist.Beta(*param)\n",
    "print(\"母體平均數:{:.4f}, 母體標準差:{:.4f}\"  \\\n",
    "      .format(distribution.mean, distribution.stddev))"
   ]
  },
  {
   "cell_type": "code",
   "execution_count": 4,
   "id": "40b7516e",
   "metadata": {},
   "outputs": [
    {
     "name": "stdout",
     "output_type": "stream",
     "text": [
      "樣本平均數:0.1136, 樣本標準差:0.0993\n"
     ]
    },
    {
     "data": {
      "text/plain": [
       "<AxesSubplot:ylabel='Density'>"
      ]
     },
     "execution_count": 4,
     "metadata": {},
     "output_type": "execute_result"
    },
    {
     "data": {
      "image/png": "[encoded data removed]",
      "text/plain": [
       "<Figure size 432x288 with 1 Axes>"
      ]
     },
     "metadata": {
      "needs_background": "light"
     },
     "output_type": "display_data"
    }
   ],
   "source": [
    "# 嘗試用此母體來sample出一些樣本\n",
    "n = 100\n",
    "samples = distribution.sample((n,))\n",
    "print(\"樣本平均數:{:.4f}, 樣本標準差:{:.4f}\"  \\\n",
    "      .format(samples.mean(), samples.std()))\n",
    "# 嘗試畫出圖形來看分佈\n",
    "sns.distplot(samples)"
   ]
  },
  {
   "cell_type": "code",
   "execution_count": 10,
   "id": "f05a9a48",
   "metadata": {},
   "outputs": [
    {
     "data": {
      "text/html": [
       "<div>\n",
       "<style scoped>\n",
       "    .dataframe tbody tr th:only-of-type {\n",
       "        vertical-align: middle;\n",
       "    }\n",
       "\n",
       "    .dataframe tbody tr th {\n",
       "        vertical-align: top;\n",
       "    }\n",
       "\n",
       "    .dataframe thead th {\n",
       "        text-align: right;\n",
       "    }\n",
       "</style>\n",
       "<table border=\"1\" class=\"dataframe\">\n",
       "  <thead>\n",
       "    <tr style=\"text-align: right;\">\n",
       "      <th></th>\n",
       "      <th>樣本數n</th>\n",
       "      <th>樣本平均數</th>\n",
       "      <th>樣本標準差</th>\n",
       "      <th>KS-test p-value</th>\n",
       "      <th>KS-test 是否為常態分佈</th>\n",
       "      <th>信賴區間_下界</th>\n",
       "      <th>信賴區間_上界</th>\n",
       "      <th>母體平均數是否落在信賴區間內</th>\n",
       "    </tr>\n",
       "  </thead>\n",
       "  <tbody>\n",
       "    <tr>\n",
       "      <th>0</th>\n",
       "      <td>1</td>\n",
       "      <td>0.1171</td>\n",
       "      <td>NaN</td>\n",
       "      <td>0.9068</td>\n",
       "      <td>False</td>\n",
       "      <td>-0.1159</td>\n",
       "      <td>0.3501</td>\n",
       "      <td>True</td>\n",
       "    </tr>\n",
       "    <tr>\n",
       "      <th>1</th>\n",
       "      <td>2</td>\n",
       "      <td>0.0620</td>\n",
       "      <td>0.0668</td>\n",
       "      <td>0.4883</td>\n",
       "      <td>False</td>\n",
       "      <td>-0.1027</td>\n",
       "      <td>0.2268</td>\n",
       "      <td>True</td>\n",
       "    </tr>\n",
       "    <tr>\n",
       "      <th>2</th>\n",
       "      <td>3</td>\n",
       "      <td>0.1063</td>\n",
       "      <td>0.0497</td>\n",
       "      <td>0.2855</td>\n",
       "      <td>False</td>\n",
       "      <td>-0.0282</td>\n",
       "      <td>0.2408</td>\n",
       "      <td>True</td>\n",
       "    </tr>\n",
       "    <tr>\n",
       "      <th>3</th>\n",
       "      <td>4</td>\n",
       "      <td>0.1130</td>\n",
       "      <td>0.0961</td>\n",
       "      <td>0.1857</td>\n",
       "      <td>False</td>\n",
       "      <td>-0.0034</td>\n",
       "      <td>0.2295</td>\n",
       "      <td>True</td>\n",
       "    </tr>\n",
       "    <tr>\n",
       "      <th>4</th>\n",
       "      <td>5</td>\n",
       "      <td>0.0568</td>\n",
       "      <td>0.0329</td>\n",
       "      <td>0.1034</td>\n",
       "      <td>False</td>\n",
       "      <td>-0.0473</td>\n",
       "      <td>0.1610</td>\n",
       "      <td>True</td>\n",
       "    </tr>\n",
       "    <tr>\n",
       "      <th>5</th>\n",
       "      <td>6</td>\n",
       "      <td>0.0918</td>\n",
       "      <td>0.0752</td>\n",
       "      <td>0.0641</td>\n",
       "      <td>False</td>\n",
       "      <td>-0.0034</td>\n",
       "      <td>0.1869</td>\n",
       "      <td>True</td>\n",
       "    </tr>\n",
       "    <tr>\n",
       "      <th>6</th>\n",
       "      <td>7</td>\n",
       "      <td>0.0727</td>\n",
       "      <td>0.0584</td>\n",
       "      <td>0.0328</td>\n",
       "      <td>False</td>\n",
       "      <td>-0.0153</td>\n",
       "      <td>0.1608</td>\n",
       "      <td>True</td>\n",
       "    </tr>\n",
       "    <tr>\n",
       "      <th>7</th>\n",
       "      <td>8</td>\n",
       "      <td>0.1033</td>\n",
       "      <td>0.1047</td>\n",
       "      <td>0.0225</td>\n",
       "      <td>False</td>\n",
       "      <td>0.0210</td>\n",
       "      <td>0.1857</td>\n",
       "      <td>True</td>\n",
       "    </tr>\n",
       "    <tr>\n",
       "      <th>8</th>\n",
       "      <td>9</td>\n",
       "      <td>0.0951</td>\n",
       "      <td>0.0968</td>\n",
       "      <td>0.0132</td>\n",
       "      <td>False</td>\n",
       "      <td>0.0175</td>\n",
       "      <td>0.1728</td>\n",
       "      <td>True</td>\n",
       "    </tr>\n",
       "    <tr>\n",
       "      <th>9</th>\n",
       "      <td>10</td>\n",
       "      <td>0.0608</td>\n",
       "      <td>0.0564</td>\n",
       "      <td>0.0071</td>\n",
       "      <td>True</td>\n",
       "      <td>-0.0129</td>\n",
       "      <td>0.1345</td>\n",
       "      <td>True</td>\n",
       "    </tr>\n",
       "  </tbody>\n",
       "</table>\n",
       "</div>"
      ],
      "text/plain": [
       "   樣本數n   樣本平均數   樣本標準差  KS-test p-value  KS-test 是否為常態分佈  信賴區間_下界  信賴區間_上界  \\\n",
       "0     1  0.1171     NaN           0.9068            False  -0.1159   0.3501   \n",
       "1     2  0.0620  0.0668           0.4883            False  -0.1027   0.2268   \n",
       "2     3  0.1063  0.0497           0.2855            False  -0.0282   0.2408   \n",
       "3     4  0.1130  0.0961           0.1857            False  -0.0034   0.2295   \n",
       "4     5  0.0568  0.0329           0.1034            False  -0.0473   0.1610   \n",
       "5     6  0.0918  0.0752           0.0641            False  -0.0034   0.1869   \n",
       "6     7  0.0727  0.0584           0.0328            False  -0.0153   0.1608   \n",
       "7     8  0.1033  0.1047           0.0225            False   0.0210   0.1857   \n",
       "8     9  0.0951  0.0968           0.0132            False   0.0175   0.1728   \n",
       "9    10  0.0608  0.0564           0.0071             True  -0.0129   0.1345   \n",
       "\n",
       "   母體平均數是否落在信賴區間內  \n",
       "0            True  \n",
       "1            True  \n",
       "2            True  \n",
       "3            True  \n",
       "4            True  \n",
       "5            True  \n",
       "6            True  \n",
       "7            True  \n",
       "8            True  \n",
       "9            True  "
      ]
     },
     "execution_count": 10,
     "metadata": {},
     "output_type": "execute_result"
    }
   ],
   "source": [
    "# 改變n的大小, 用此母體sample出一些樣本, 並用KS-test來檢驗是否為常態分佈\n",
    "# 假定若KS-test的p-value小於0.01就視為常態分佈\n",
    "# 可以從樣本平均數, 樣本數n, 和母體標準差σ估算99%信心水準的信賴區間\n",
    "alpha = 0.01 # 可容忍的型一誤差\n",
    "confidence_level = 1-alpha # 信賴水準99%\n",
    "mu = distribution.mean.numpy() # 母體平均數\n",
    "sigma = distribution.stddev.numpy() # 母體標準差\n",
    "Phi_inv_z = stats.norm.ppf(1-alpha/2)\n",
    "columns=[\"樣本數n\", \"樣本平均數\", \"樣本標準差\", \"KS-test p-value\",  \\\n",
    "         \"KS-test 是否為常態分佈\", \"信賴區間_下界\", \"信賴區間_上界\", \\\n",
    "         \"母體平均數是否落在信賴區間內\" ]\n",
    "rows = []\n",
    "samples_collect = {}\n",
    "for n in range(1,101):\n",
    "    samples = distribution.sample((n,))\n",
    "    samples_collect.update({n:samples})\n",
    "    mean_sample, std_sample = samples.mean().numpy(), samples.std().numpy()\n",
    "    _, p = stats.kstest(np.array(samples),\"norm\") \n",
    "    CI_lb = mean_sample-Phi_inv_z*sigma/np.sqrt(n)\n",
    "    CI_ub = mean_sample+Phi_inv_z*sigma/np.sqrt(n)\n",
    "    rows.append([n, \n",
    "                 mean_sample.round(4), \n",
    "                 std_sample.round(4), \n",
    "                 p.round(4), \n",
    "                 p<0.01,\n",
    "                 CI_lb.round(4),\n",
    "                 CI_ub.round(4),\n",
    "                 (CI_lb<=mu)&(CI_ub>=mu)\n",
    "                ])\n",
    "    \n",
    "df = pd.DataFrame(data=rows, columns=columns)   \n",
    "df.head(10)"
   ]
  },
  {
   "cell_type": "code",
   "execution_count": 11,
   "id": "598799ff",
   "metadata": {},
   "outputs": [
    {
     "data": {
      "image/png": "[encoded data removed]",
      "text/plain": [
       "<Figure size 432x288 with 1 Axes>"
      ]
     },
     "metadata": {
      "needs_background": "light"
     },
     "output_type": "display_data"
    }
   ],
   "source": [
    "# 嘗試畫出圖形來看分佈\n",
    "for n in [1,30,100]:\n",
    "    samples = samples_collect[n]\n",
    "    sns.distplot(samples, label=\"n=\"+str(n))\n",
    "plt.legend()\n",
    "plt.show()"
   ]
  }
 ],
 "metadata": {
  "kernelspec": {
   "display_name": "Python 3 (ipykernel)",
   "language": "python",
   "name": "python3"
  },
  "language_info": {
   "codemirror_mode": {
    "name": "ipython",
    "version": 3
   },
   "file_extension": ".py",
   "mimetype": "text/x-python",
   "name": "python",
   "nbconvert_exporter": "python",
   "pygments_lexer": "ipython3",
   "version": "3.9.12"
  }
 },
 "nbformat": 4,
 "nbformat_minor": 5
}
