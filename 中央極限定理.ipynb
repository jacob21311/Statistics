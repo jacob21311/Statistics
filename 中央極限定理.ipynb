{
 "cells": [
  {
   "cell_type": "code",
   "execution_count": 5,
   "id": "f100505b",
   "metadata": {},
   "outputs": [],
   "source": [
    "# 載入會使用到的套件\n",
    "\n",
    "import matplotlib.pyplot as plt\n",
    "import numpy as np    # Numerical Python extensions 套件\n",
    "import pandas as pd   # Python data analysis 套件"
   ]
  },
  {
   "cell_type": "code",
   "execution_count": 3,
   "id": "efbbd667",
   "metadata": {},
   "outputs": [],
   "source": [
    "# 二項分配隨機抽樣 np.random.binomial(n, p, s)\n",
    "# n: 每次抽樣樣本數\n",
    "# p: 二項分配的母體機率\n",
    "# s: 抽樣次數"
   ]
  },
  {
   "cell_type": "code",
   "execution_count": 6,
   "id": "fe67f0da",
   "metadata": {},
   "outputs": [
    {
     "name": "stdout",
     "output_type": "stream",
     "text": [
      "       p-hat\n",
      "0       0.27\n",
      "1       0.20\n",
      "2       0.24\n",
      "3       0.22\n",
      "4       0.22\n",
      "...      ...\n",
      "99995   0.25\n",
      "99996   0.23\n",
      "99997   0.27\n",
      "99998   0.25\n",
      "99999   0.19\n",
      "\n",
      "[100000 rows x 1 columns]\n"
     ]
    },
    {
     "data": {
      "image/png": "[encoded data removed]",
      "text/plain": [
       "<Figure size 432x288 with 1 Axes>"
      ]
     },
     "metadata": {
      "needs_background": "light"
     },
     "output_type": "display_data"
    }
   ],
   "source": [
    "n, p, s = 100, 0.25, 100000       # 預先設定二項分配內部參數\n",
    "x = np.random.binomial(n, p, s)   # return 每次抽樣成功次數 x\n",
    "x_mean = x/n  # 樣本平均值\n",
    "\n",
    "# 將樣本平均值寫成一欄位形式，欄位名稱設定 'p-hat'\n",
    "df = pd.DataFrame(x_mean, columns=['p-hat']) \n",
    "print(df)\n",
    "\n",
    "# 設定df表格中的'p-hat'作為資料輸入\n",
    "means = df['p-hat']    \n",
    "\n",
    "# 使用means的資料畫圖，hist為直方圖，title為表格名稱，bins為直方圖中有\n",
    "# 幾根柱狀圖形，圖中顯示為50根\n",
    "means.plot(kind='hist', title='Simulated Sampling Distribution',\n",
    "           bins=50)    \n",
    "plt.show()   # 繪製圖形"
   ]
  },
  {
   "cell_type": "code",
   "execution_count": 7,
   "id": "d9bd2167",
   "metadata": {},
   "outputs": [
    {
     "name": "stdout",
     "output_type": "stream",
     "text": [
      "Mean: 0.250\n",
      "Std: 0.043\n"
     ]
    }
   ],
   "source": [
    "# f 表示將{}內文字放在字串中，():.xf 表示小數點後幾位\n",
    "print (f'Mean: {means.mean():.3f}')\n",
    "print (f'Std: {means.std():.3f}')\n",
    "\n",
    "# 大樣本下樣本平均趨近於 0.25"
   ]
  },
  {
   "cell_type": "code",
   "execution_count": null,
   "id": "40e80cb9",
   "metadata": {},
   "outputs": [],
   "source": []
  }
 ],
 "metadata": {
  "kernelspec": {
   "display_name": "Python 3 (ipykernel)",
   "language": "python",
   "name": "python3"
  },
  "language_info": {
   "codemirror_mode": {
    "name": "ipython",
    "version": 3
   },
   "file_extension": ".py",
   "mimetype": "text/x-python",
   "name": "python",
   "nbconvert_exporter": "python",
   "pygments_lexer": "ipython3",
   "version": "3.9.12"
  }
 },
 "nbformat": 4,
 "nbformat_minor": 5
}
