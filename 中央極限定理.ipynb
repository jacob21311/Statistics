{
 "cells": [
  {
   "cell_type": "code",
   "execution_count": 1,
   "id": "d76a8616",
   "metadata": {},
   "outputs": [],
   "source": [
    "# Python Remote Object，應用可以在網路下相互通用\n",
    "# 對同一個對象（分配）調用很多次時，可以使用批量調用方法來極大的提高效能\n",
    "import pyro\n",
    "import pyro.distributions as dist # 套件內部選擇機率分佈\n",
    "import numpy as np\n",
    "import scipy.stats as stats # science python中的 statistics模組\n",
    "import pandas as pd\n",
    "import matplotlib.pylab as plt\n",
    "import seaborn as sns      # 另一繪圖套件\n",
    "import warnings            # 將一些警示通知的訊息略過\n",
    "warnings.filterwarnings('ignore')"
   ]
  },
  {
   "cell_type": "code",
   "execution_count": 7,
   "id": "9135fe8d",
   "metadata": {},
   "outputs": [
    {
     "name": "stdout",
     "output_type": "stream",
     "text": [
      "Beta()\n",
      "母體平均數:0.1000, 母體標準差:0.0905\n"
     ]
    }
   ],
   "source": [
    "# 給定一個母體，定義beta分配的參數。 alpha = 1,beta = 9 \n",
    "param = (1, 9) \n",
    "distribution = dist.Beta(*param)\n",
    "print(distribution)\n",
    "print(\"母體平均數:{:.4f}, 母體標準差:{:.4f}\"  \\\n",
    "      .format(distribution.mean, distribution.stddev))"
   ]
  },
  {
   "cell_type": "code",
   "execution_count": 10,
   "id": "40b7516e",
   "metadata": {},
   "outputs": [
    {
     "name": "stdout",
     "output_type": "stream",
     "text": [
      "樣本平均數:0.1023, 樣本標準差:0.0917\n"
     ]
    },
    {
     "data": {
      "text/plain": [
       "<AxesSubplot:ylabel='Density'>"
      ]
     },
     "execution_count": 10,
     "metadata": {},
     "output_type": "execute_result"
    },
    {
     "data": {
      "image/png": "[encoded data removed]",
      "text/plain": [
       "<Figure size 432x288 with 1 Axes>"
      ]
     },
     "metadata": {
      "needs_background": "light"
     },
     "output_type": "display_data"
    }
   ],
   "source": [
    "# 嘗試用此beta分配母體來sample出一些樣本\n",
    "n = 100\n",
    "samples = distribution.sample((n,)) # sample 出100個樣本\n",
    "print(\"樣本平均數:{:.4f}, 樣本標準差:{:.4f}\"  \\\n",
    "      .format(samples.mean(), samples.std()))\n",
    "\n",
    "# 嘗試畫出樣本圖形來看樣本分佈，sns呼喚seaborn，sns.distplot集合了\n",
    "# hist直方圖函數與分佈觀測線條函數\n",
    "sns.distplot(samples) "
   ]
  },
  {
   "cell_type": "code",
   "execution_count": 11,
   "id": "f05a9a48",
   "metadata": {},
   "outputs": [
    {
     "data": {
      "text/html": [
       "<div>\n",
       "<style scoped>\n",
       "    .dataframe tbody tr th:only-of-type {\n",
       "        vertical-align: middle;\n",
       "    }\n",
       "\n",
       "    .dataframe tbody tr th {\n",
       "        vertical-align: top;\n",
       "    }\n",
       "\n",
       "    .dataframe thead th {\n",
       "        text-align: right;\n",
       "    }\n",
       "</style>\n",
       "<table border=\"1\" class=\"dataframe\">\n",
       "  <thead>\n",
       "    <tr style=\"text-align: right;\">\n",
       "      <th></th>\n",
       "      <th>樣本數n</th>\n",
       "      <th>樣本平均數</th>\n",
       "      <th>樣本標準差</th>\n",
       "      <th>KS-test p-value</th>\n",
       "      <th>KS-test 是否為常態分佈</th>\n",
       "      <th>信賴區間_下界</th>\n",
       "      <th>信賴區間_上界</th>\n",
       "      <th>母體平均數是否落在信賴區間內</th>\n",
       "    </tr>\n",
       "  </thead>\n",
       "  <tbody>\n",
       "    <tr>\n",
       "      <th>0</th>\n",
       "      <td>1</td>\n",
       "      <td>0.0399</td>\n",
       "      <td>NaN</td>\n",
       "      <td>0.9682</td>\n",
       "      <td>False</td>\n",
       "      <td>-0.1931</td>\n",
       "      <td>0.2729</td>\n",
       "      <td>True</td>\n",
       "    </tr>\n",
       "    <tr>\n",
       "      <th>1</th>\n",
       "      <td>2</td>\n",
       "      <td>0.0639</td>\n",
       "      <td>0.0865</td>\n",
       "      <td>0.4978</td>\n",
       "      <td>False</td>\n",
       "      <td>-0.1008</td>\n",
       "      <td>0.2287</td>\n",
       "      <td>True</td>\n",
       "    </tr>\n",
       "    <tr>\n",
       "      <th>2</th>\n",
       "      <td>3</td>\n",
       "      <td>0.0959</td>\n",
       "      <td>0.0428</td>\n",
       "      <td>0.2912</td>\n",
       "      <td>False</td>\n",
       "      <td>-0.0386</td>\n",
       "      <td>0.2304</td>\n",
       "      <td>True</td>\n",
       "    </tr>\n",
       "    <tr>\n",
       "      <th>3</th>\n",
       "      <td>4</td>\n",
       "      <td>0.0912</td>\n",
       "      <td>0.0283</td>\n",
       "      <td>0.1432</td>\n",
       "      <td>False</td>\n",
       "      <td>-0.0253</td>\n",
       "      <td>0.2077</td>\n",
       "      <td>True</td>\n",
       "    </tr>\n",
       "    <tr>\n",
       "      <th>4</th>\n",
       "      <td>5</td>\n",
       "      <td>0.0879</td>\n",
       "      <td>0.0879</td>\n",
       "      <td>0.1113</td>\n",
       "      <td>False</td>\n",
       "      <td>-0.0163</td>\n",
       "      <td>0.1921</td>\n",
       "      <td>True</td>\n",
       "    </tr>\n",
       "    <tr>\n",
       "      <th>5</th>\n",
       "      <td>6</td>\n",
       "      <td>0.0996</td>\n",
       "      <td>0.1006</td>\n",
       "      <td>0.0537</td>\n",
       "      <td>False</td>\n",
       "      <td>0.0045</td>\n",
       "      <td>0.1947</td>\n",
       "      <td>True</td>\n",
       "    </tr>\n",
       "    <tr>\n",
       "      <th>6</th>\n",
       "      <td>7</td>\n",
       "      <td>0.1438</td>\n",
       "      <td>0.1042</td>\n",
       "      <td>0.0359</td>\n",
       "      <td>False</td>\n",
       "      <td>0.0558</td>\n",
       "      <td>0.2319</td>\n",
       "      <td>True</td>\n",
       "    </tr>\n",
       "    <tr>\n",
       "      <th>7</th>\n",
       "      <td>8</td>\n",
       "      <td>0.0414</td>\n",
       "      <td>0.0381</td>\n",
       "      <td>0.0218</td>\n",
       "      <td>False</td>\n",
       "      <td>-0.0409</td>\n",
       "      <td>0.1238</td>\n",
       "      <td>True</td>\n",
       "    </tr>\n",
       "    <tr>\n",
       "      <th>8</th>\n",
       "      <td>9</td>\n",
       "      <td>0.1030</td>\n",
       "      <td>0.0928</td>\n",
       "      <td>0.0114</td>\n",
       "      <td>False</td>\n",
       "      <td>0.0253</td>\n",
       "      <td>0.1806</td>\n",
       "      <td>True</td>\n",
       "    </tr>\n",
       "    <tr>\n",
       "      <th>9</th>\n",
       "      <td>10</td>\n",
       "      <td>0.0901</td>\n",
       "      <td>0.0805</td>\n",
       "      <td>0.0069</td>\n",
       "      <td>True</td>\n",
       "      <td>0.0165</td>\n",
       "      <td>0.1638</td>\n",
       "      <td>True</td>\n",
       "    </tr>\n",
       "  </tbody>\n",
       "</table>\n",
       "</div>"
      ],
      "text/plain": [
       "   樣本數n   樣本平均數   樣本標準差  KS-test p-value  KS-test 是否為常態分佈  信賴區間_下界  信賴區間_上界  \\\n",
       "0     1  0.0399     NaN           0.9682            False  -0.1931   0.2729   \n",
       "1     2  0.0639  0.0865           0.4978            False  -0.1008   0.2287   \n",
       "2     3  0.0959  0.0428           0.2912            False  -0.0386   0.2304   \n",
       "3     4  0.0912  0.0283           0.1432            False  -0.0253   0.2077   \n",
       "4     5  0.0879  0.0879           0.1113            False  -0.0163   0.1921   \n",
       "5     6  0.0996  0.1006           0.0537            False   0.0045   0.1947   \n",
       "6     7  0.1438  0.1042           0.0359            False   0.0558   0.2319   \n",
       "7     8  0.0414  0.0381           0.0218            False  -0.0409   0.1238   \n",
       "8     9  0.1030  0.0928           0.0114            False   0.0253   0.1806   \n",
       "9    10  0.0901  0.0805           0.0069             True   0.0165   0.1638   \n",
       "\n",
       "   母體平均數是否落在信賴區間內  \n",
       "0            True  \n",
       "1            True  \n",
       "2            True  \n",
       "3            True  \n",
       "4            True  \n",
       "5            True  \n",
       "6            True  \n",
       "7            True  \n",
       "8            True  \n",
       "9            True  "
      ]
     },
     "execution_count": 11,
     "metadata": {},
     "output_type": "execute_result"
    }
   ],
   "source": [
    "# 改變n的大小, 用此母體sample出一些樣本 \n",
    "# 並用Kolmogorov-Smirnov-test來檢驗是否符合常態分佈\n",
    "# 假定若Kolmogorov-Smirnov-test的p-value小於0.01就視為常態分佈\n",
    "# 可以從beta分配之樣本平均數, 樣本數n,和樣本標準差σ估算99%信心水準的信賴區間\n",
    "alpha = 0.01 # 可容忍的型一誤差設定為0.01 \n",
    "confidence_level = 1-alpha # 信賴水準99%\n",
    "mu = distribution.mean.numpy() # 母體平均數\n",
    "sigma = distribution.stddev.numpy() # 母體標準差\n",
    "dis_cdf = stats.norm.ppf(1-alpha/2) # 回傳累積分配函數中對應的x\n",
    "\n",
    "# 新增一個表格中欄位分別為以下\n",
    "columns=[\"樣本數n\", \"樣本平均數\", \"樣本標準差\", \"KS-test p-value\",  \\\n",
    "         \"KS-test 是否為常態分佈\", \"信賴區間_下界\", \"信賴區間_上界\", \\\n",
    "         \"母體平均數是否落在信賴區間內\" ]\n",
    "rows = []   # 設定為空集合，之後資料處理後會陸續填入\n",
    "samples_collect = {}  \n",
    "for n in range(1,101):\n",
    "    samples = distribution.sample((n,))\n",
    "    samples_collect.update({n:samples})  # 更新資料後陸續填入 n=1~101\n",
    "    # 樣本平均,樣本標準差分別求出,設定為numpy形態以寫入空集合\n",
    "    mean_sample, std_sample = samples.mean().numpy(), samples.std().numpy()\n",
    "    # 底線表示不需要用到的參數，kstest中只需用到 p-value,檢測是否符合\n",
    "    # 常態分配 normal distribution\n",
    "    _, p = stats.kstest(np.array(samples),\"norm\") \n",
    "    \n",
    "    # 信賴區間的lower_bond與 upper_bond\n",
    "    CI_lb = mean_sample-dis_cdf*sigma/np.sqrt(n)\n",
    "    CI_ub = mean_sample+dis_cdf*sigma/np.sqrt(n)\n",
    "    \n",
    "    rows.append([n, \n",
    "                 mean_sample.round(4), \n",
    "                 std_sample.round(4), \n",
    "                 p.round(4), \n",
    "                 p<0.01,\n",
    "                 CI_lb.round(4),\n",
    "                 CI_ub.round(4),\n",
    "                 (CI_lb<=mu)&(CI_ub>=mu)\n",
    "                ])\n",
    "    \n",
    "df = pd.DataFrame(data=rows, columns=columns)   \n",
    "df.head(10)"
   ]
  },
  {
   "cell_type": "code",
   "execution_count": 19,
   "id": "598799ff",
   "metadata": {},
   "outputs": [
    {
     "data": {
      "image/png": "[encoded data removed]",
      "text/plain": [
       "<Figure size 432x288 with 1 Axes>"
      ]
     },
     "metadata": {
      "needs_background": "light"
     },
     "output_type": "display_data"
    }
   ],
   "source": [
    "# 嘗試畫出圖形來看分佈, n = 1,30,60\n",
    "for n in [1,30,60]:\n",
    "    samples = samples_collect[n]\n",
    "    sns.distplot(samples, label=\"n=\"+str(n))\n",
    "plt.legend()\n",
    "plt.show()"
   ]
  },
  {
   "cell_type": "code",
   "execution_count": 13,
   "id": "1c5282e8",
   "metadata": {},
   "outputs": [
    {
     "data": {
      "image/png": "[encoded data removed]",
      "text/plain": [
       "<Figure size 432x288 with 1 Axes>"
      ]
     },
     "metadata": {
      "needs_background": "light"
     },
     "output_type": "display_data"
    }
   ],
   "source": [
    "# 嘗試畫出圖形來看分佈, n = 5,15,25\n",
    "for n in [5,15,25]:\n",
    "    samples = samples_collect[n]\n",
    "    sns.distplot(samples, label=\"n=\"+str(n))\n",
    "plt.legend()\n",
    "plt.show()"
   ]
  }
 ],
 "metadata": {
  "kernelspec": {
   "display_name": "Python 3 (ipykernel)",
   "language": "python",
   "name": "python3"
  },
  "language_info": {
   "codemirror_mode": {
    "name": "ipython",
    "version": 3
   },
   "file_extension": ".py",
   "mimetype": "text/x-python",
   "name": "python",
   "nbconvert_exporter": "python",
   "pygments_lexer": "ipython3",
   "version": "3.9.12"
  }
 },
 "nbformat": 4,
 "nbformat_minor": 5
}
