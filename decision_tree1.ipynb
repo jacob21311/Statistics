{
 "cells": [
  {
   "cell_type": "code",
   "execution_count": 1,
   "id": "a1ff66c7",
   "metadata": {},
   "outputs": [],
   "source": [
    "import numpy as np\n",
    "from math import log\n",
    "import matplotlib.pyplot as plt"
   ]
  },
  {
   "cell_type": "code",
   "execution_count": 2,
   "id": "36785ae7",
   "metadata": {},
   "outputs": [],
   "source": [
    "# only 2 class\n",
    "def E(a,b): # E represent entropy, a&b as variables\n",
    "    if a == 0 or b == 0:\n",
    "        return 0 \n",
    "    prob_a = a / (a+b)\n",
    "    prob_b = b / (a+b)\n",
    "    # compute entropy in summary\n",
    "    entropy = -(prob_a * log(prob_a,2) + prob_b * log(prob_b,2))\n",
    "    \n",
    "    return entropy"
   ]
  },
  {
   "cell_type": "code",
   "execution_count": 3,
   "id": "e91c6e28",
   "metadata": {},
   "outputs": [
    {
     "data": {
      "text/plain": [
       "0.9402859586706309"
      ]
     },
     "execution_count": 3,
     "metadata": {},
     "output_type": "execute_result"
    }
   ],
   "source": [
    "# Total gain\n",
    "S = E(9,5)\n",
    "S"
   ]
  },
  {
   "cell_type": "code",
   "execution_count": 4,
   "id": "ed9eb8d6",
   "metadata": {},
   "outputs": [
    {
     "data": {
      "text/plain": [
       "0.2467498197744391"
      ]
     },
     "execution_count": 4,
     "metadata": {},
     "output_type": "execute_result"
    }
   ],
   "source": [
    "# Outlook gain\n",
    "outlook_gain = S-(5/14* E(3,2)+4/14* E(4,0)+5/14* E(2,3))\n",
    "outlook_gain"
   ]
  },
  {
   "cell_type": "code",
   "execution_count": 6,
   "id": "9ad305a0",
   "metadata": {},
   "outputs": [
    {
     "data": {
      "text/plain": [
       "0.15183550136234136"
      ]
     },
     "execution_count": 6,
     "metadata": {},
     "output_type": "execute_result"
    }
   ],
   "source": [
    "# Hunility gain\n",
    "humid_gain = S-(7/14* E(3,4)+7/14* E(6,1))\n",
    "humid_gain"
   ]
  },
  {
   "cell_type": "code",
   "execution_count": 7,
   "id": "c658a8a4",
   "metadata": {},
   "outputs": [
    {
     "data": {
      "text/plain": [
       "0.029222565658954647"
      ]
     },
     "execution_count": 7,
     "metadata": {},
     "output_type": "execute_result"
    }
   ],
   "source": [
    "# Temperture gain\n",
    "temp_gain = S-(4/14* E(2,2)+ 6/14* E(4,2)+ 4/14*E(3,1))\n",
    "temp_gain"
   ]
  },
  {
   "cell_type": "code",
   "execution_count": 8,
   "id": "aff1adff",
   "metadata": {},
   "outputs": [
    {
     "data": {
      "text/plain": [
       "0.04812703040826927"
      ]
     },
     "execution_count": 8,
     "metadata": {},
     "output_type": "execute_result"
    }
   ],
   "source": [
    "# Wind gain\n",
    "wind_gain = S-(8/14* E(6,2)+6/14* E(3,3))\n",
    "wind_gain"
   ]
  },
  {
   "cell_type": "code",
   "execution_count": null,
   "id": "8f959e52",
   "metadata": {},
   "outputs": [],
   "source": [
    "'''\n",
    "Outlook 假設等於 rain\n",
    "計算 Temp, Humidity, Windy的 Information gain\n",
    "且算出 Rainy下的樹狀結構\n",
    "Temp Humidity Windy Play-golf\n",
    "hot  high     False No\n",
    "hot  high     True  No\n",
    "mild high     False No\n",
    "Cool normal   False Yes\n",
    "mild normal   True  Yes\n",
    "'''"
   ]
  },
  {
   "cell_type": "code",
   "execution_count": 11,
   "id": "6865f33d",
   "metadata": {},
   "outputs": [
    {
     "data": {
      "text/plain": [
       "0.9709505944546686"
      ]
     },
     "execution_count": 11,
     "metadata": {},
     "output_type": "execute_result"
    }
   ],
   "source": [
    "# gain under rain\n",
    "S1 = E(3,2)\n",
    "S1"
   ]
  },
  {
   "cell_type": "code",
   "execution_count": 12,
   "id": "8d3fbf49",
   "metadata": {},
   "outputs": [
    {
     "data": {
      "text/plain": [
       "0.5709505944546686"
      ]
     },
     "execution_count": 12,
     "metadata": {},
     "output_type": "execute_result"
    }
   ],
   "source": [
    "# temp gain under rain\n",
    "temp_gain1 = S1- (2/5* E(2,0)+ 2/5* E(1,1)+ 1/5* E(1,0))\n",
    "temp_gain1"
   ]
  },
  {
   "cell_type": "code",
   "execution_count": 13,
   "id": "546f542b",
   "metadata": {},
   "outputs": [
    {
     "data": {
      "text/plain": [
       "0.9709505944546686"
      ]
     },
     "execution_count": 13,
     "metadata": {},
     "output_type": "execute_result"
    }
   ],
   "source": [
    "# humid gain under rain\n",
    "humid_gain1 = S1 - (3/5* E(3,0)+ 2/5* E(2,0))\n",
    "humid_gain1"
   ]
  },
  {
   "cell_type": "code",
   "execution_count": 14,
   "id": "3593b57e",
   "metadata": {},
   "outputs": [
    {
     "data": {
      "text/plain": [
       "0.01997309402197489"
      ]
     },
     "execution_count": 14,
     "metadata": {},
     "output_type": "execute_result"
    }
   ],
   "source": [
    "# windy gain under rain \n",
    "windy_gain1 = S1 - (3/5 * E(1,2)+ 2/5* E(1,1))\n",
    "windy_gain1"
   ]
  },
  {
   "cell_type": "code",
   "execution_count": 16,
   "id": "177eb123",
   "metadata": {},
   "outputs": [],
   "source": [
    "from scipy.stats import entropy"
   ]
  },
  {
   "cell_type": "code",
   "execution_count": 17,
   "id": "66444b57",
   "metadata": {},
   "outputs": [
    {
     "data": {
      "text/plain": [
       "0.9709505944546688"
      ]
     },
     "execution_count": 17,
     "metadata": {},
     "output_type": "execute_result"
    }
   ],
   "source": [
    "entropy([3/5,2/5],base = 2)"
   ]
  },
  {
   "cell_type": "code",
   "execution_count": null,
   "id": "ff44e6f6",
   "metadata": {},
   "outputs": [],
   "source": []
  }
 ],
 "metadata": {
  "kernelspec": {
   "display_name": "Python 3 (ipykernel)",
   "language": "python",
   "name": "python3"
  },
  "language_info": {
   "codemirror_mode": {
    "name": "ipython",
    "version": 3
   },
   "file_extension": ".py",
   "mimetype": "text/x-python",
   "name": "python",
   "nbconvert_exporter": "python",
   "pygments_lexer": "ipython3",
   "version": "3.9.12"
  }
 },
 "nbformat": 4,
 "nbformat_minor": 5
}
